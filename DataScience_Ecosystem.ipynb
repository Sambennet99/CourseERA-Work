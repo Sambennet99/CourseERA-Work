{
 "cells": [
  {
   "cell_type": "markdown",
   "id": "d4994383-35d4-476c-98b1-811cc1bb5aaa",
   "metadata": {
    "tags": []
   },
   "source": [
    "<H1> Data Science Tools and Ecosystem"
   ]
  },
  {
   "cell_type": "markdown",
   "id": "b30d2b7b-052b-47e4-8bb7-7db034ec5a96",
   "metadata": {},
   "source": [
    "**Objectives Covered:**\n",
    "- Listed popular languages in Data science\n",
    "- Listed popular libraries in Python\n",
    "- Created a Table of Data Science Tools\n",
    "- Created coded cells of Arithmetic Within python"
   ]
  },
  {
   "cell_type": "markdown",
   "id": "56f3dd1e-7e6a-4a94-b0e2-3514d11af8b0",
   "metadata": {
    "tags": []
   },
   "source": [
    "In this notebook, Data Science Tools and Ecosystem are summarized."
   ]
  },
  {
   "cell_type": "markdown",
   "id": "db023e8a-2a43-410d-b526-b68dde73423c",
   "metadata": {
    "tags": []
   },
   "source": [
    "Popular Data Science Languages\n",
    "\n",
    "1. Python\n",
    "2. C++\n",
    "3. SQL\n",
    "4. Java"
   ]
  },
  {
   "cell_type": "markdown",
   "id": "c5549db3-9def-4de8-98c2-7c2125a30a20",
   "metadata": {
    "tags": []
   },
   "source": [
    "Popular Libraries in Python\n",
    "\n",
    "1. Pandas\n",
    "2. SciPy\n",
    "3. NumPy\n",
    "4. Matplotlib\n",
    "5. TensorFlow"
   ]
  },
  {
   "cell_type": "markdown",
   "id": "704db6e1-832b-4e77-9f1a-292618ac2122",
   "metadata": {},
   "source": [
    "| Data Science Tools | \n",
    "| -------------| \n",
    "|RStudio |\n",
    "| Hadoop | \n",
    "| Apache Spark | "
   ]
  },
  {
   "cell_type": "markdown",
   "id": "7f971dbc-5661-43e8-a976-6a6b0574bcdb",
   "metadata": {
    "tags": []
   },
   "source": [
    "<H3> Here are a Couple examples of Evaluating Arithmetic Expressions with Python"
   ]
  },
  {
   "cell_type": "code",
   "execution_count": 1,
   "id": "9c04ab1e-24c0-430b-b616-bbe33bb153b2",
   "metadata": {
    "tags": []
   },
   "outputs": [
    {
     "data": {
      "text/plain": [
       "17"
      ]
     },
     "execution_count": 1,
     "metadata": {},
     "output_type": "execute_result"
    }
   ],
   "source": [
    "(3*4)+5"
   ]
  },
  {
   "cell_type": "code",
   "execution_count": 2,
   "id": "c982674c-6584-4da1-964b-1c58e88d2acf",
   "metadata": {
    "tags": []
   },
   "outputs": [
    {
     "data": {
      "text/plain": [
       "3.3333333333333335"
      ]
     },
     "execution_count": 2,
     "metadata": {},
     "output_type": "execute_result"
    }
   ],
   "source": [
    "# This will convert 200 minutes to hours by dividing by 60.\n",
    "minutes = 200\n",
    "hours = minutes / 60\n",
    "hours"
   ]
  },
  {
   "cell_type": "markdown",
   "id": "51fa3739-80a8-4fcd-ab57-c3c8707ce516",
   "metadata": {
    "tags": []
   },
   "source": [
    "## Author\n",
    "Samuel Bennett"
   ]
  }
 ],
 "metadata": {
  "kernelspec": {
   "display_name": "Python",
   "language": "python",
   "name": "conda-env-python-py"
  },
  "language_info": {
   "codemirror_mode": {
    "name": "ipython",
    "version": 3
   },
   "file_extension": ".py",
   "mimetype": "text/x-python",
   "name": "python",
   "nbconvert_exporter": "python",
   "pygments_lexer": "ipython3",
   "version": "3.7.12"
  }
 },
 "nbformat": 4,
 "nbformat_minor": 5
}
